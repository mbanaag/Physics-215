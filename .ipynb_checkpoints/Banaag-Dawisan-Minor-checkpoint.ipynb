{
 "cells": [
  {
   "cell_type": "markdown",
   "id": "5ef90d05-62f8-4d36-b498-a8aeb8ecc5db",
   "metadata": {},
   "source": [
    "## Game of Life Rules\n",
    "\n",
    "1. Any live cell with fewer that two live neighbors dies, as if by underpopulation\n",
    "2. Any live cell with two or three neighbors lives on to the next generation\n",
    "3. Any live cell with more than three live neighbors dies, as if by overpopulation\n",
    "4. Any dead cell with exactly three live nieghbors becomes a live cell, as if by roproduction"
   ]
  },
  {
   "cell_type": "markdown",
   "id": "d0909116-97f9-4463-9557-3b2c0b2ba608",
   "metadata": {},
   "source": [
    "### TO DO\n",
    "    * Setup grid\n",
    "    * Create rules as functions, make sure they read all cells at the same time\n",
    "    * Save images per step\n",
    "    * Create an animation out of saved images"
   ]
  },
  {
   "cell_type": "code",
   "execution_count": 3,
   "id": "ae2f4384-026d-4425-95ab-f920f278d7b2",
   "metadata": {},
   "outputs": [
    {
     "data": {
      "text/plain": [
       "10×10 Matrix{Int64}:\n",
       " 1  1  1  1  0  0  1  1  0  0\n",
       " 1  1  0  1  1  1  0  1  0  1\n",
       " 1  0  0  0  0  0  0  1  1  1\n",
       " 0  1  1  1  1  1  1  0  0  1\n",
       " 1  0  0  0  0  1  0  1  1  0\n",
       " 1  1  0  1  0  1  1  0  1  0\n",
       " 0  1  1  1  1  0  0  0  0  1\n",
       " 1  1  0  0  0  0  1  0  1  0\n",
       " 1  0  0  0  1  1  0  1  1  0\n",
       " 1  0  1  1  0  0  1  1  0  1"
      ]
     },
     "execution_count": 3,
     "metadata": {},
     "output_type": "execute_result"
    }
   ],
   "source": [
    "# Grid setup of the system\n",
    "N = 10\n",
    "grid = rand(0:1,N,N)"
   ]
  },
  {
   "cell_type": "code",
   "execution_count": null,
   "id": "e31318a6-c6bd-4dde-ac94-339376525876",
   "metadata": {},
   "outputs": [],
   "source": []
  }
 ],
 "metadata": {
  "kernelspec": {
   "display_name": "Julia 1.6.2",
   "language": "julia",
   "name": "julia-1.6"
  },
  "language_info": {
   "file_extension": ".jl",
   "mimetype": "application/julia",
   "name": "julia",
   "version": "1.6.2"
  }
 },
 "nbformat": 4,
 "nbformat_minor": 5
}
