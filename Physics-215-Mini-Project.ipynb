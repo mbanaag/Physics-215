{
 "cells": [
  {
   "cell_type": "markdown",
   "id": "b9b8bc36",
   "metadata": {},
   "source": [
    "### Game of Life Rules\n",
    "1. Any live cell with fewer than two live neighbors dies, as if by underpopulation\n",
    "2. Any live cell with two or three neighbors lives on to the next generation\n",
    "3. Any live cell with more than three live neighbors dies, as if by overpopulation\n",
    "4. Any dead cell with exactly three live nieghbors becomes a live cell, as if by reproduction  \n",
    "\n",
    "### TO DO\n",
    "* Setup grid\n",
    "* Create rules as functions, make sure they read all cells at the same time\n",
    "* Save images per step\n",
    "* Create an animation out of saved images"
   ]
  },
  {
   "cell_type": "code",
   "execution_count": 1,
   "id": "f4dd1a49",
   "metadata": {},
   "outputs": [
    {
     "data": {
      "text/plain": [
       "10×10 Matrix{Int64}:\n",
       " 0  0  0  0  1  0  0  1  1  0\n",
       " 0  0  1  0  0  0  0  0  0  0\n",
       " 1  1  0  1  1  1  1  1  0  0\n",
       " 0  1  0  1  0  0  1  1  1  1\n",
       " 1  0  1  0  1  0  1  1  0  0\n",
       " 0  1  1  0  1  0  1  1  0  1\n",
       " 0  0  0  0  0  0  1  1  0  1\n",
       " 0  1  0  0  0  0  0  1  0  0\n",
       " 0  0  0  1  0  1  1  1  1  1\n",
       " 0  0  0  1  0  1  1  0  0  0"
      ]
     },
     "execution_count": 1,
     "metadata": {},
     "output_type": "execute_result"
    }
   ],
   "source": [
    "# Grid setup of the system\n",
    "N = 10\n",
    "grid = rand(0:1,N,N)"
   ]
  },
  {
   "cell_type": "code",
   "execution_count": 2,
   "id": "4b62487b",
   "metadata": {},
   "outputs": [
    {
     "data": {
      "text/plain": [
       "10"
      ]
     },
     "execution_count": 2,
     "metadata": {},
     "output_type": "execute_result"
    }
   ],
   "source": [
    "N"
   ]
  },
  {
   "cell_type": "code",
   "execution_count": 3,
   "id": "10314438",
   "metadata": {},
   "outputs": [
    {
     "data": {
      "text/plain": [
       "neighborSum (generic function with 1 method)"
      ]
     },
     "execution_count": 3,
     "metadata": {},
     "output_type": "execute_result"
    }
   ],
   "source": [
    "function neighborSum(xcoord,ycoord)\n",
    "    right = xcoord + 1\n",
    "    if right > N\n",
    "        right = 1\n",
    "    end\n",
    "    left = xcoord - 1\n",
    "    if left === 0\n",
    "        left = N\n",
    "    end\n",
    "    up = ycoord + 1\n",
    "    if up > N\n",
    "        up = 1\n",
    "    end\n",
    "    down = ycoord - 1\n",
    "    if down === 0\n",
    "        down = N\n",
    "    end\n",
    "    return grid[xcoord,ycoord] + grid[right,ycoord] + grid[left,ycoord] + grid[xcoord,up] + grid[xcoord,down] + grid[right,up] + grid[right,down] + grid[left,up] + grid[left,down]\n",
    "end"
   ]
  },
  {
   "cell_type": "code",
   "execution_count": 4,
   "id": "2284cfa5",
   "metadata": {},
   "outputs": [
    {
     "name": "stdout",
     "output_type": "stream",
     "text": [
      "search: \u001b[0m\u001b[1m=\u001b[22m\u001b[0m\u001b[1m=\u001b[22m\u001b[0m\u001b[1m=\u001b[22m \u001b[0m\u001b[1m=\u001b[22m\u001b[0m\u001b[1m=\u001b[22m !\u001b[0m\u001b[1m=\u001b[22m\u001b[0m\u001b[1m=\u001b[22m\n",
      "\n"
     ]
    },
    {
     "data": {
      "text/latex": [
       "\\begin{verbatim}\n",
       "===(x,y) -> Bool\n",
       "≡(x,y) -> Bool\n",
       "\\end{verbatim}\n",
       "Determine whether \\texttt{x} and \\texttt{y} are identical, in the sense that no program could distinguish them. First the types of \\texttt{x} and \\texttt{y} are compared. If those are identical, mutable objects are compared by address in memory and immutable objects (such as numbers) are compared by contents at the bit level. This function is sometimes called \"egal\". It always returns a \\texttt{Bool} value.\n",
       "\n",
       "\\section{Examples}\n",
       "\\begin{verbatim}\n",
       "julia> a = [1, 2]; b = [1, 2];\n",
       "\n",
       "julia> a == b\n",
       "true\n",
       "\n",
       "julia> a === b\n",
       "false\n",
       "\n",
       "julia> a === a\n",
       "true\n",
       "\\end{verbatim}\n"
      ],
      "text/markdown": [
       "```\n",
       "===(x,y) -> Bool\n",
       "≡(x,y) -> Bool\n",
       "```\n",
       "\n",
       "Determine whether `x` and `y` are identical, in the sense that no program could distinguish them. First the types of `x` and `y` are compared. If those are identical, mutable objects are compared by address in memory and immutable objects (such as numbers) are compared by contents at the bit level. This function is sometimes called \"egal\". It always returns a `Bool` value.\n",
       "\n",
       "# Examples\n",
       "\n",
       "```jldoctest\n",
       "julia> a = [1, 2]; b = [1, 2];\n",
       "\n",
       "julia> a == b\n",
       "true\n",
       "\n",
       "julia> a === b\n",
       "false\n",
       "\n",
       "julia> a === a\n",
       "true\n",
       "```\n"
      ],
      "text/plain": [
       "\u001b[36m  ===(x,y) -> Bool\u001b[39m\n",
       "\u001b[36m  ≡(x,y) -> Bool\u001b[39m\n",
       "\n",
       "  Determine whether \u001b[36mx\u001b[39m and \u001b[36my\u001b[39m are identical, in the sense that no program could\n",
       "  distinguish them. First the types of \u001b[36mx\u001b[39m and \u001b[36my\u001b[39m are compared. If those are\n",
       "  identical, mutable objects are compared by address in memory and immutable\n",
       "  objects (such as numbers) are compared by contents at the bit level. This\n",
       "  function is sometimes called \"egal\". It always returns a \u001b[36mBool\u001b[39m value.\n",
       "\n",
       "\u001b[1m  Examples\u001b[22m\n",
       "\u001b[1m  ≡≡≡≡≡≡≡≡≡≡\u001b[22m\n",
       "\n",
       "\u001b[36m  julia> a = [1, 2]; b = [1, 2];\u001b[39m\n",
       "\u001b[36m  \u001b[39m\n",
       "\u001b[36m  julia> a == b\u001b[39m\n",
       "\u001b[36m  true\u001b[39m\n",
       "\u001b[36m  \u001b[39m\n",
       "\u001b[36m  julia> a === b\u001b[39m\n",
       "\u001b[36m  false\u001b[39m\n",
       "\u001b[36m  \u001b[39m\n",
       "\u001b[36m  julia> a === a\u001b[39m\n",
       "\u001b[36m  true\u001b[39m"
      ]
     },
     "execution_count": 4,
     "metadata": {},
     "output_type": "execute_result"
    }
   ],
   "source": [
    "? ==="
   ]
  },
  {
   "cell_type": "code",
   "execution_count": 5,
   "id": "a1814981",
   "metadata": {},
   "outputs": [
    {
     "data": {
      "text/plain": [
       "10×10 Matrix{Int64}:\n",
       " 0  0  0  0  0  0  0  0  0  0\n",
       " 0  0  0  0  0  0  0  0  0  0\n",
       " 0  0  0  0  0  0  0  0  0  0\n",
       " 0  0  0  0  0  0  0  0  0  0\n",
       " 0  0  0  0  0  0  0  0  0  0\n",
       " 0  0  0  0  0  0  0  0  0  0\n",
       " 0  0  0  0  0  0  0  0  0  0\n",
       " 0  0  0  0  0  0  0  0  0  0\n",
       " 0  0  0  0  0  0  0  0  0  0\n",
       " 0  0  0  0  0  0  0  0  0  0"
      ]
     },
     "execution_count": 5,
     "metadata": {},
     "output_type": "execute_result"
    }
   ],
   "source": [
    "nextGrid = zeros(Int64, N,N)"
   ]
  },
  {
   "cell_type": "code",
   "execution_count": 6,
   "id": "949cbb4a",
   "metadata": {},
   "outputs": [],
   "source": [
    "for i = 1:N\n",
    "    for j = 1:N\n",
    "        check = neighborSum(i,j)\n",
    "        if grid[i,j] === 1\n",
    "            if check < 2 || check > 3\n",
    "                nextGrid[i,j] = 0\n",
    "            end\n",
    "            if check === 2 || check === 3\n",
    "                nextGrid[i,j] = 1\n",
    "            end\n",
    "        end\n",
    "        if grid[i,j] === 0\n",
    "            if check === 3\n",
    "                nextGrid[i,j] = 1\n",
    "            end\n",
    "        end\n",
    "    end\n",
    "end"
   ]
  },
  {
   "cell_type": "code",
   "execution_count": 7,
   "id": "48f48c88",
   "metadata": {},
   "outputs": [
    {
     "data": {
      "text/plain": [
       "10×10 Matrix{Int64}:\n",
       " 0  0  0  1  1  1  1  1  1  0\n",
       " 0  1  1  0  0  0  0  0  1  0\n",
       " 0  0  0  0  0  0  0  0  0  1\n",
       " 0  0  0  0  0  0  0  0  0  0\n",
       " 0  0  0  0  1  0  0  0  0  0\n",
       " 0  0  1  0  1  0  0  0  0  1\n",
       " 0  1  1  0  0  1  0  0  0  1\n",
       " 1  0  0  0  0  1  0  0  0  1\n",
       " 0  0  1  1  0  0  0  0  0  1\n",
       " 0  0  0  1  0  0  0  0  0  1"
      ]
     },
     "execution_count": 7,
     "metadata": {},
     "output_type": "execute_result"
    }
   ],
   "source": [
    "nextGrid"
   ]
  },
  {
   "cell_type": "code",
   "execution_count": 8,
   "id": "4aacc1b9",
   "metadata": {},
   "outputs": [
    {
     "data": {
      "text/plain": [
       "10×10 Matrix{Int64}:\n",
       " 0  0  0  0  1  0  0  1  1  0\n",
       " 0  0  1  0  0  0  0  0  0  0\n",
       " 1  1  0  1  1  1  1  1  0  0\n",
       " 0  1  0  1  0  0  1  1  1  1\n",
       " 1  0  1  0  1  0  1  1  0  0\n",
       " 0  1  1  0  1  0  1  1  0  1\n",
       " 0  0  0  0  0  0  1  1  0  1\n",
       " 0  1  0  0  0  0  0  1  0  0\n",
       " 0  0  0  1  0  1  1  1  1  1\n",
       " 0  0  0  1  0  1  1  0  0  0"
      ]
     },
     "execution_count": 8,
     "metadata": {},
     "output_type": "execute_result"
    }
   ],
   "source": [
    "grid"
   ]
  },
  {
   "cell_type": "code",
   "execution_count": 17,
   "id": "33e4b05d",
   "metadata": {},
   "outputs": [
    {
     "data": {
      "text/plain": [
       "1-element Vector{String}:\n",
       " \"000001.png\""
      ]
     },
     "execution_count": 17,
     "metadata": {},
     "output_type": "execute_result"
    }
   ],
   "source": [
    "using Plots\n",
    "p1 = heatmap(grid,\n",
    "    yflip=true,\n",
    "    size=(400,370))\n",
    "anim = Animation()\n",
    "frame(anim)"
   ]
  },
  {
   "cell_type": "code",
   "execution_count": 18,
   "id": "dc2fa29b",
   "metadata": {},
   "outputs": [
    {
     "data": {
      "text/plain": [
       "2-element Vector{String}:\n",
       " \"000001.png\"\n",
       " \"000002.png\""
      ]
     },
     "execution_count": 18,
     "metadata": {},
     "output_type": "execute_result"
    }
   ],
   "source": [
    "p2 = heatmap(nextGrid,\n",
    "    yflip=true,\n",
    "    size=(400,370))\n",
    "frame(anim)"
   ]
  },
  {
   "cell_type": "code",
   "execution_count": 20,
   "id": "b849ca12",
   "metadata": {},
   "outputs": [
    {
     "name": "stderr",
     "output_type": "stream",
     "text": [
      "┌ Info: Saved animation to \n",
      "│   fn = C:\\Users\\Buknoy Dawisan\\OneDrive\\Documents\\MS Subjects\\Physics 215\\grid.gif\n",
      "└ @ Plots C:\\Users\\Buknoy Dawisan\\.julia\\packages\\Plots\\yfzIY\\src\\animation.jl:114\n"
     ]
    },
    {
     "data": {
      "text/html": [
       "<img src=\"data:image/gif;base64,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\" />"
      ],
      "text/plain": [
       "Plots.AnimatedGif(\"C:\\\\Users\\\\Buknoy Dawisan\\\\OneDrive\\\\Documents\\\\MS Subjects\\\\Physics 215\\\\grid.gif\")"
      ]
     },
     "execution_count": 20,
     "metadata": {},
     "output_type": "execute_result"
    }
   ],
   "source": [
    "gif(anim, \"grid.gif\", fps=5)"
   ]
  }
 ],
 "metadata": {
  "kernelspec": {
   "display_name": "Julia 1.6.2",
   "language": "julia",
   "name": "julia-1.6"
  },
  "language_info": {
   "file_extension": ".jl",
   "mimetype": "application/julia",
   "name": "julia",
   "version": "1.6.2"
  }
 },
 "nbformat": 4,
 "nbformat_minor": 5
}
