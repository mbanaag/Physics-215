{
 "cells": [
  {
   "cell_type": "markdown",
   "id": "6f205af4",
   "metadata": {},
   "source": [
    "### Game of Life Rules\n",
    "1. Any live cell with fewer than two live neighbors dies, as if by underpopulation\n",
    "2. Any live cell with two or three neighbors lives on to the next generation\n",
    "3. Any live cell with more than three live neighbors dies, as if by overpopulation\n",
    "4. Any dead cell with exactly three live nieghbors becomes a live cell, as if by reproduction  "
   ]
  },
  {
   "cell_type": "code",
   "execution_count": 1,
   "id": "05650510",
   "metadata": {},
   "outputs": [],
   "source": [
    "# Grid setup of the system\n",
    "N = 100 #grid size\n",
    "grid = rand(0:1,N,N);"
   ]
  },
  {
   "cell_type": "code",
   "execution_count": 2,
   "id": "a0a0a700",
   "metadata": {},
   "outputs": [
    {
     "data": {
      "text/plain": [
       "neighborSum (generic function with 1 method)"
      ]
     },
     "execution_count": 2,
     "metadata": {},
     "output_type": "execute_result"
    }
   ],
   "source": [
    "# Function used to apply the Game of Life rules\n",
    "# neighborSum takes in the current x and y coordinate of the cell and the matrix the cell\n",
    "# is located in\n",
    "\n",
    "function neighborSum(xcoord::Int64,ycoord::Int64,oGrid::Matrix{Int64})\n",
    "    right = xcoord + 1\n",
    "    if right > N\n",
    "        right = 1\n",
    "    end\n",
    "    left = xcoord - 1\n",
    "    if left === 0\n",
    "        left = N\n",
    "    end\n",
    "    up = ycoord + 1\n",
    "    if up > N\n",
    "        up = 1\n",
    "    end\n",
    "    down = ycoord - 1\n",
    "    if down === 0\n",
    "        down = N\n",
    "    end\n",
    "    return oGrid[right,ycoord] + oGrid[left,ycoord] + oGrid[xcoord,up] + oGrid[xcoord,down] + oGrid[right,up] + oGrid[right,down] + oGrid[left,up] + oGrid[left,down]\n",
    "end"
   ]
  },
  {
   "cell_type": "code",
   "execution_count": 3,
   "id": "30730012",
   "metadata": {},
   "outputs": [],
   "source": [
    "#Make a new grid of the same size where we will enter the next state of the original grid\n",
    "\n",
    "nextGrid = zeros(Int64, N,N);"
   ]
  },
  {
   "cell_type": "code",
   "execution_count": 4,
   "id": "45c6efd1",
   "metadata": {},
   "outputs": [],
   "source": [
    "#Store the old grid\n",
    "\n",
    "steps = 100\n",
    "store = [zeros(Int64, N,N) for _ in 1:steps];\n",
    "store[1] = grid;"
   ]
  },
  {
   "cell_type": "code",
   "execution_count": 5,
   "id": "804392bf",
   "metadata": {},
   "outputs": [
    {
     "data": {
      "text/plain": [
       "nextStep (generic function with 1 method)"
      ]
     },
     "execution_count": 5,
     "metadata": {},
     "output_type": "execute_result"
    }
   ],
   "source": [
    "#Updating the old grid to new grid\n",
    "\n",
    "function nextStep(oGrid::Matrix{Int64}, nGrid::Matrix{Int64})\n",
    "    for i = 1:N\n",
    "        for j = 1:N\n",
    "            check = neighborSum(i,j,oGrid)\n",
    "            if oGrid[i,j] === 1\n",
    "                if check < 2 || check > 3\n",
    "                    nGrid[i,j] = 0\n",
    "                end\n",
    "                if check === 2 || check === 3\n",
    "                    nGrid[i,j] = 1\n",
    "                end\n",
    "            end\n",
    "            if oGrid[i,j] === 0\n",
    "                if check === 3\n",
    "                    nGrid[i,j] = 1\n",
    "                end\n",
    "            end\n",
    "        end\n",
    "    end\n",
    "end"
   ]
  },
  {
   "cell_type": "code",
   "execution_count": 6,
   "id": "2a383851",
   "metadata": {},
   "outputs": [],
   "source": [
    "#Storing the old grid, then updating it to a new grid, then repeat loop\n",
    "\n",
    "for k in 1:(steps - 1)\n",
    "    nextStep(store[k],store[k+1])\n",
    "end"
   ]
  },
  {
   "cell_type": "code",
   "execution_count": null,
   "id": "b8a0411c",
   "metadata": {},
   "outputs": [],
   "source": [
    "#Animating each step (grid)\n",
    "\n",
    "using Plots\n",
    "anim = @animate for i in store #we use this to save each grid as a frame for animation\n",
    "    heatmap(i,\n",
    "        yflip=true,\n",
    "        size=(400,370))\n",
    "end\n",
    "gif(anim, \"anim.gif\", fps = 5) #animate the stored frames in a gif"
   ]
  },
  {
   "cell_type": "code",
   "execution_count": null,
   "id": "21b618e7",
   "metadata": {},
   "outputs": [],
   "source": [
    "#Still life simulation (block)\n",
    "\n",
    "#Make a grid for a block\n",
    "block = [0 0 0 0 0 0 0 0 0 0;\n",
    "         0 0 0 0 0 0 0 0 0 0;\n",
    "         0 0 0 0 0 0 0 0 0 0;\n",
    "         0 0 0 0 0 0 0 0 0 0;\n",
    "         0 0 0 0 1 1 0 0 0 0;\n",
    "         0 0 0 0 1 1 0 0 0 0;\n",
    "         0 0 0 0 0 0 0 0 0 0;\n",
    "         0 0 0 0 0 0 0 0 0 0;\n",
    "         0 0 0 0 0 0 0 0 0 0;\n",
    "         0 0 0 0 0 0 0 0 0 0;]\n",
    "\n",
    "#Grid size\n",
    "N = 10"
   ]
  },
  {
   "cell_type": "code",
   "execution_count": null,
   "id": "24e9c490",
   "metadata": {},
   "outputs": [],
   "source": [
    "#Make a new grid of the same size where we will enter the next state of the original grid\n",
    "\n",
    "nextGrid_block = zeros(Int64, N,N);"
   ]
  },
  {
   "cell_type": "code",
   "execution_count": null,
   "id": "e0d8dd84",
   "metadata": {},
   "outputs": [],
   "source": [
    "#Store the old grid\n",
    "\n",
    "steps_block = 10\n",
    "store_block = [zeros(Int64, N,N) for _ in 1:steps_block];\n",
    "store_block[1] = block;"
   ]
  },
  {
   "cell_type": "code",
   "execution_count": null,
   "id": "cccccadd",
   "metadata": {},
   "outputs": [],
   "source": [
    "#Storing the old grid, then updating it to a new grid, then repeat loop\n",
    "\n",
    "for l in 1:(steps_block - 1)\n",
    "    nextStep(store_block[l],store_block[l+1])\n",
    "end"
   ]
  },
  {
   "cell_type": "code",
   "execution_count": null,
   "id": "9085a2b1",
   "metadata": {},
   "outputs": [],
   "source": [
    "store_block;"
   ]
  },
  {
   "cell_type": "code",
   "execution_count": null,
   "id": "240f56f2",
   "metadata": {},
   "outputs": [],
   "source": [
    "#Animating each step (grid)\n",
    "\n",
    "anim = @animate for i in store_block\n",
    "    heatmap(i,\n",
    "        yflip=true,\n",
    "        size=(400,370))\n",
    "end\n",
    "gif(anim, \"anim.gif\", fps = 5)"
   ]
  },
  {
   "cell_type": "code",
   "execution_count": null,
   "id": "2920c3a4",
   "metadata": {},
   "outputs": [],
   "source": [
    "#Oscillator simulation (3-period star)\n",
    "\n",
    "#Make a grid for a star\n",
    "star = [0 0 0 0 0 0 0 0 0 0 0 0 0 0 0;\n",
    "        0 0 0 0 0 0 0 0 0 0 0 0 0 0 0;\n",
    "        0 0 0 0 0 0 0 1 0 0 0 0 0 0 0;\n",
    "        0 0 0 0 0 0 1 1 1 0 0 0 0 0 0;\n",
    "        0 0 0 0 1 1 1 0 1 1 1 0 0 0 0;\n",
    "        0 0 0 0 1 0 0 0 0 0 1 0 0 0 0;\n",
    "        0 0 0 1 1 0 0 0 0 0 1 1 0 0 0;\n",
    "        0 0 1 1 0 0 0 0 0 0 0 1 1 0 0;\n",
    "        0 0 0 1 1 0 0 0 0 0 1 1 0 0 0;\n",
    "        0 0 0 0 1 0 0 0 0 0 1 0 0 0 0;\n",
    "        0 0 0 0 1 1 1 0 1 1 1 0 0 0 0;\n",
    "        0 0 0 0 0 0 1 1 1 0 0 0 0 0 0;\n",
    "        0 0 0 0 0 0 0 1 0 0 0 0 0 0 0;\n",
    "        0 0 0 0 0 0 0 0 0 0 0 0 0 0 0;\n",
    "        0 0 0 0 0 0 0 0 0 0 0 0 0 0 0]\n",
    "\n",
    "#Grid size\n",
    "N = 15"
   ]
  },
  {
   "cell_type": "code",
   "execution_count": null,
   "id": "17926341",
   "metadata": {},
   "outputs": [],
   "source": [
    "#Make a new grid of the same size where we will enter the next state of the original grid\n",
    "\n",
    "nextGrid_star = zeros(Int64, N,N);"
   ]
  },
  {
   "cell_type": "code",
   "execution_count": null,
   "id": "2243d7f5",
   "metadata": {},
   "outputs": [],
   "source": [
    "#Store the old grid\n",
    "\n",
    "steps_star = 13\n",
    "store_star = [zeros(Int64, N,N) for _ in 1:steps_star];\n",
    "store_star[1] = star;"
   ]
  },
  {
   "cell_type": "code",
   "execution_count": null,
   "id": "505ab271",
   "metadata": {},
   "outputs": [],
   "source": [
    "#Storing the old grid, then updating it to a new grid, then repeat loop\n",
    "\n",
    "for k in 1:(steps_star - 1)\n",
    "    nextStep(store_star[k],store_star[k+1])\n",
    "end"
   ]
  },
  {
   "cell_type": "code",
   "execution_count": null,
   "id": "0d301e07",
   "metadata": {},
   "outputs": [],
   "source": [
    "store_star;"
   ]
  },
  {
   "cell_type": "code",
   "execution_count": null,
   "id": "7a38b6ec",
   "metadata": {},
   "outputs": [],
   "source": [
    "#Animating each step (grid)\n",
    "\n",
    "anim = @animate for i in store_star\n",
    "    heatmap(i,\n",
    "        yflip=true,\n",
    "        size=(400,370))\n",
    "end\n",
    "gif(anim, \"anim.gif\", fps = 2)"
   ]
  }
 ],
 "metadata": {
  "kernelspec": {
   "display_name": "Julia 1.6.2",
   "language": "julia",
   "name": "julia-1.6"
  },
  "language_info": {
   "file_extension": ".jl",
   "mimetype": "application/julia",
   "name": "julia",
   "version": "1.6.2"
  }
 },
 "nbformat": 4,
 "nbformat_minor": 5
}
